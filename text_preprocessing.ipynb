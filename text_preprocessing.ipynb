{
 "cells": [
  {
   "cell_type": "code",
   "execution_count": null,
   "id": "c0c2e08b",
   "metadata": {},
   "outputs": [],
   "source": [
    "import nltk\n",
    "import time\n",
    "\n",
    "import pandas as pd\n",
    "import numpy as np\n",
    "\n",
    "from nltk.probability import FreqDist\n",
    "from nltk.tokenize import word_tokenize\n",
    "from nltk.corpus import stopwords\n",
    "from nltk.stem.snowball import SnowballStemmer"
   ]
  },
  {
   "cell_type": "code",
   "execution_count": null,
   "id": "2a3bc604",
   "metadata": {},
   "outputs": [],
   "source": [
    "# Init NLTK\n",
    "# Pada tahap ini akan tampil NLTK downloader\n",
    "# Jikal belum perdah download, harus download beberapa modul terlebih dahulu\n",
    "# Jika sudah tahap ini dapat dilewati\n",
    "nltk.download()"
   ]
  },
  {
   "cell_type": "code",
   "execution_count": null,
   "id": "57f86169",
   "metadata": {},
   "outputs": [],
   "source": [
    "# Membaca dataset.csv kedalah dataframe pandas\n",
    "df = pd.read_csv(\"./data/dataset.csv\")\n",
    "\n",
    "# print(df.head(5))\n",
    "print(df.isna().any())"
   ]
  },
  {
   "cell_type": "code",
   "execution_count": null,
   "id": "55cb0889",
   "metadata": {},
   "outputs": [],
   "source": [
    "# Cleaning\n",
    "# Karena data yang digunakan hanya kolom \"review_text\" \n",
    "# maka hanya data pada kolom itu yang akan dibersihkan dari nilai NaN.\n",
    "# Pembersihan data ini akan menghapus baris yang memiliki nilai NaN\n",
    "# pada kolom \"review_text\".\n",
    "df.dropna(axis=0, subset=[\"review_text\"], inplace=True)\n",
    "\n",
    "print(df.isna().any())"
   ]
  },
  {
   "cell_type": "code",
   "execution_count": null,
   "id": "db658c81",
   "metadata": {},
   "outputs": [],
   "source": [
    "# Case Folding\n",
    "# Mengecilkan semuah huruf pada kolom \"review_text\"\n",
    "df[\"review_text\"] = df[\"review_text\"].str.lower()\n",
    "\n",
    "print(df[\"review_text\"])"
   ]
  },
  {
   "cell_type": "code",
   "execution_count": null,
   "id": "abcebe89",
   "metadata": {},
   "outputs": [],
   "source": [
    "# Tokenizing\n",
    "# Pembuatan token kata akan dilakukan setelah text masing-masing dokumen\n",
    "# dilakukan penghilangan karakter-karakter yang tidak penting"
   ]
  },
  {
   "cell_type": "code",
   "execution_count": null,
   "id": "20f42559",
   "metadata": {},
   "outputs": [],
   "source": [
    "import string\n",
    "import re\n",
    "\n",
    "def hapus_karakter_spesial(text):\n",
    "    # hapus karakter yang bukan ASCII\n",
    "    return text.encode('ascii', 'replace').decode('ascii')\n",
    "\n",
    "def hapus_karakter_angka(text):\n",
    "    return re.sub(r'\\d+', \"\", text)\n",
    "\n",
    "def hapus_tanda_baca(text):\n",
    "    return text.translate(str.maketrans(\"\", \"\", string.punctuation))\n",
    "\n",
    "def hapus_whitespace(text):\n",
    "    return re.sub(r'\\s+', ' ', text)\n",
    "\n",
    "def hapus_whitespace_kiri_kanan(text):\n",
    "    return text.strip()"
   ]
  },
  {
   "cell_type": "code",
   "execution_count": null,
   "id": "7114876b",
   "metadata": {},
   "outputs": [],
   "source": [
    "# Menghilangkan karakter tidak penting\n",
    "df[\"review_text\"] = df[\"review_text\"].apply(hapus_karakter_spesial)\n",
    "df[\"review_text\"] = df[\"review_text\"].apply(hapus_karakter_angka)\n",
    "df[\"review_text\"] = df[\"review_text\"].apply(hapus_tanda_baca)\n",
    "df[\"review_text\"] = df[\"review_text\"].apply(hapus_whitespace)\n",
    "df[\"review_text\"] = df[\"review_text\"].apply(hapus_whitespace_kiri_kanan)\n",
    "\n",
    "# Membuat token\n",
    "df['review_text_tokens'] = df['review_text'].apply(lambda text: word_tokenize(text))\n",
    "\n",
    "print(df[\"review_text\"])"
   ]
  },
  {
   "cell_type": "code",
   "execution_count": null,
   "id": "7ebcd5e8",
   "metadata": {},
   "outputs": [],
   "source": [
    "# Stopwords\n",
    "# Pada tahap ini akan menghilangkan stopwords\n",
    "# stopwords yang digunakan bersal dari library NLTK\n",
    "\n",
    "# Mendapatkan list stopwords dari library NLTK\n",
    "list_stopwords = stopwords.words('english')\n",
    "list_stopwords = set(list_stopwords)\n",
    "\n",
    "# Eliminasi kata yang termasuk stopwords\n",
    "df['review_text_tokens_wsw'] = df['review_text_tokens'].apply(\n",
    "    lambda words: [word for word in words if word not in list_stopwords]\n",
    ")\n",
    "\n",
    "print(df['review_text_tokens_wsw'].head())"
   ]
  },
  {
   "cell_type": "code",
   "execution_count": null,
   "id": "6877c084",
   "metadata": {},
   "outputs": [],
   "source": [
    "# Stemming\n",
    "# Tahap ini akan mengembalikan kata kebentuk dasarnya\n",
    "# di sini akan menggunakan snowball stemmer\n",
    "\n",
    "# Menghitung waktu stemming\n",
    "start_time = time.time()\n",
    "\n",
    "stemmer = SnowballStemmer(language=\"english\")\n",
    "df[\"review_text_tokens_stemmed\"] = df[\"review_text_tokens_wsw\"].apply(\n",
    "    lambda words: [stemmer.stem(word) for word in words]\n",
    ")\n",
    "\n",
    "print(\"--- %s seconds ---\" % (time.time() - start_time))\n",
    "print(df[\"review_text_tokens_stemmed\"])"
   ]
  },
  {
   "cell_type": "code",
   "execution_count": null,
   "id": "d13018af",
   "metadata": {},
   "outputs": [],
   "source": [
    "# Menyimpan hasil prepocessing\n",
    "df.to_csv(\"./data/text_preprocessing.csv\")"
   ]
  }
 ],
 "metadata": {
  "kernelspec": {
   "display_name": "nlp-belajar",
   "language": "python",
   "name": "nlp-belajar"
  },
  "language_info": {
   "codemirror_mode": {
    "name": "ipython",
    "version": 3
   },
   "file_extension": ".py",
   "mimetype": "text/x-python",
   "name": "python",
   "nbconvert_exporter": "python",
   "pygments_lexer": "ipython3",
   "version": "3.8.11"
  }
 },
 "nbformat": 4,
 "nbformat_minor": 5
}
