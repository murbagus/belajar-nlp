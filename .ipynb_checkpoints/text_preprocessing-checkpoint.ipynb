{
 "cells": [
  {
   "cell_type": "code",
   "execution_count": 18,
   "id": "c0c2e08b",
   "metadata": {},
   "outputs": [],
   "source": [
    "import nltk\n",
    "import time\n",
    "\n",
    "import pandas as pd\n",
    "import numpy as np\n",
    "\n",
    "from nltk.probability import FreqDist\n",
    "from nltk.tokenize import word_tokenize\n",
    "from nltk.corpus import stopwords\n",
    "from nltk.stem.snowball import SnowballStemmer"
   ]
  },
  {
   "cell_type": "code",
   "execution_count": 9,
   "id": "35adb45c",
   "metadata": {},
   "outputs": [
    {
     "name": "stdout",
     "output_type": "stream",
     "text": [
      "showing info https://raw.githubusercontent.com/nltk/nltk_data/gh-pages/index.xml\n"
     ]
    },
    {
     "data": {
      "text/plain": [
       "True"
      ]
     },
     "execution_count": 9,
     "metadata": {},
     "output_type": "execute_result"
    }
   ],
   "source": [
    "# Init NLTK\n",
    "# Pada tahap ini akan tampil NLTK downloader\n",
    "# Jikal belum perdah download, harus download beberapa modul terlebih dahulu\n",
    "# Jika sudah tahap ini dapat dilewati\n",
    "nltk.download()"
   ]
  },
  {
   "cell_type": "code",
   "execution_count": 2,
   "id": "53fbcd77",
   "metadata": {},
   "outputs": [
    {
     "name": "stdout",
     "output_type": "stream",
     "text": [
      "Unnamed: 0                 False\n",
      "clothing_id                False\n",
      "age                        False\n",
      "title                       True\n",
      "review_text                 True\n",
      "rating                     False\n",
      "recommended_ind            False\n",
      "positive_feedback_count    False\n",
      "division_name               True\n",
      "department_name             True\n",
      "class_name                  True\n",
      "dtype: bool\n"
     ]
    }
   ],
   "source": [
    "# Membaca dataset.csv kedalah dataframe pandas\n",
    "df = pd.read_csv(\"dataset.csv\")\n",
    "\n",
    "# print(df.head(5))\n",
    "print(df.isna().any())"
   ]
  },
  {
   "cell_type": "code",
   "execution_count": 3,
   "id": "7f22bd17",
   "metadata": {},
   "outputs": [
    {
     "name": "stdout",
     "output_type": "stream",
     "text": [
      "Unnamed: 0                 False\n",
      "clothing_id                False\n",
      "age                        False\n",
      "title                       True\n",
      "review_text                False\n",
      "rating                     False\n",
      "recommended_ind            False\n",
      "positive_feedback_count    False\n",
      "division_name               True\n",
      "department_name             True\n",
      "class_name                  True\n",
      "dtype: bool\n"
     ]
    }
   ],
   "source": [
    "# Cleaning\n",
    "# Karena data yang digunakan hanya kolom \"review_text\" \n",
    "# maka hanya data pada kolom itu yang akan dibersihkan dari nilai NaN.\n",
    "# Pembersihan data ini akan menghapus baris yang memiliki nilai NaN\n",
    "# pada kolom \"review_text\".\n",
    "df.dropna(axis=0, subset=[\"review_text\"], inplace=True)\n",
    "\n",
    "print(df.isna().any())"
   ]
  },
  {
   "cell_type": "code",
   "execution_count": 4,
   "id": "a00e0337",
   "metadata": {},
   "outputs": [
    {
     "name": "stdout",
     "output_type": "stream",
     "text": [
      "0        absolutely wonderful - silky and sexy and comf...\n",
      "1        love this dress!  it's sooo pretty.  i happene...\n",
      "2        i had such high hopes for this dress and reall...\n",
      "3        i love, love, love this jumpsuit. it's fun, fl...\n",
      "4        this shirt is very flattering to all due to th...\n",
      "                               ...                        \n",
      "23481    i was very happy to snag this dress at such a ...\n",
      "23482    it reminds me of maternity clothes. soft, stre...\n",
      "23483    this fit well, but the top was very see throug...\n",
      "23484    i bought this dress for a wedding i have this ...\n",
      "23485    this dress in a lovely platinum is feminine an...\n",
      "Name: review_text, Length: 22641, dtype: object\n"
     ]
    }
   ],
   "source": [
    "# Case Folding\n",
    "# Mengecilkan semuah huruf pada kolom \"review_text\"\n",
    "df[\"review_text\"] = df[\"review_text\"].str.lower()\n",
    "\n",
    "print(df[\"review_text\"])"
   ]
  },
  {
   "cell_type": "code",
   "execution_count": 5,
   "id": "52bf0e99",
   "metadata": {},
   "outputs": [],
   "source": [
    "# Tokenizing\n",
    "# Pembuatan token kata akan dilakukan setelah text masing-masing dokumen\n",
    "# dilakukan penghilangan karakter-karakter yang tidak penting"
   ]
  },
  {
   "cell_type": "code",
   "execution_count": 6,
   "id": "1432443f",
   "metadata": {},
   "outputs": [],
   "source": [
    "import string\n",
    "import re\n",
    "\n",
    "def hapus_karakter_spesial(text):\n",
    "    # hapus karakter yang bukan ASCII\n",
    "    return text.encode('ascii', 'replace').decode('ascii')\n",
    "\n",
    "def hapus_karakter_angka(text):\n",
    "    return re.sub(r'\\d+', \"\", text)\n",
    "\n",
    "def hapus_tanda_baca(text):\n",
    "    return text.translate(str.maketrans(\"\", \"\", string.punctuation))\n",
    "\n",
    "def hapus_whitespace(text):\n",
    "    return re.sub(r'\\s+', ' ', text)\n",
    "\n",
    "def hapus_whitespace_kiri_kanan(text):\n",
    "    return text.strip()"
   ]
  },
  {
   "cell_type": "code",
   "execution_count": 7,
   "id": "fe39a7be",
   "metadata": {},
   "outputs": [
    {
     "name": "stdout",
     "output_type": "stream",
     "text": [
      "0        absolutely wonderful silky and sexy and comfor...\n",
      "1        love this dress its sooo pretty i happened to ...\n",
      "2        i had such high hopes for this dress and reall...\n",
      "3        i love love love this jumpsuit its fun flirty ...\n",
      "4        this shirt is very flattering to all due to th...\n",
      "                               ...                        \n",
      "23481    i was very happy to snag this dress at such a ...\n",
      "23482    it reminds me of maternity clothes soft stretc...\n",
      "23483    this fit well but the top was very see through...\n",
      "23484    i bought this dress for a wedding i have this ...\n",
      "23485    this dress in a lovely platinum is feminine an...\n",
      "Name: review_text, Length: 22641, dtype: object\n"
     ]
    }
   ],
   "source": [
    "# Menghilangkan karakter tidak penting\n",
    "df[\"review_text\"] = df[\"review_text\"].apply(hapus_karakter_spesial)\n",
    "df[\"review_text\"] = df[\"review_text\"].apply(hapus_karakter_angka)\n",
    "df[\"review_text\"] = df[\"review_text\"].apply(hapus_tanda_baca)\n",
    "df[\"review_text\"] = df[\"review_text\"].apply(hapus_whitespace)\n",
    "df[\"review_text\"] = df[\"review_text\"].apply(hapus_whitespace_kiri_kanan)\n",
    "\n",
    "# Membuat token\n",
    "df['review_text_tokens'] = df['review_text'].apply(lambda text: word_tokenize(text))\n",
    "\n",
    "print(df[\"review_text\"])"
   ]
  },
  {
   "cell_type": "code",
   "execution_count": 17,
   "id": "c482bf20",
   "metadata": {},
   "outputs": [
    {
     "name": "stdout",
     "output_type": "stream",
     "text": [
      "0    [absolutely, wonderful, silky, sexy, comfortable]\n",
      "1    [love, dress, sooo, pretty, happened, find, st...\n",
      "2    [high, hopes, dress, really, wanted, work, ini...\n",
      "3    [love, love, love, jumpsuit, fun, flirty, fabu...\n",
      "4    [shirt, flattering, due, adjustable, front, ti...\n",
      "Name: review_text_tokens_wsw, dtype: object\n"
     ]
    }
   ],
   "source": [
    "# Stopwords\n",
    "# Pada tahap ini akan menghilangkan stopwords\n",
    "# stopwords yang digunakan bersal dari library NLTK\n",
    "\n",
    "# Mendapatkan list stopwords dari library NLTK\n",
    "list_stopwords = stopwords.words('english')\n",
    "list_stopwords = set(list_stopwords)\n",
    "\n",
    "# Eliminasi kata yang termasuk stopwords\n",
    "df['review_text_tokens_wsw'] = df['review_text_tokens'].apply(\n",
    "    lambda words: [word for word in words if word not in list_stopwords]\n",
    ")\n",
    "\n",
    "print(df['review_text_tokens_wsw'].head())"
   ]
  },
  {
   "cell_type": "code",
   "execution_count": 20,
   "id": "5870fd76",
   "metadata": {},
   "outputs": [
    {
     "name": "stdout",
     "output_type": "stream",
     "text": [
      "--- 11.880393505096436 seconds ---\n",
      "0                  [absolut, wonder, silki, sexi, comfort]\n",
      "1        [love, dress, sooo, pretti, happen, find, stor...\n",
      "2        [high, hope, dress, realli, want, work, initi,...\n",
      "3        [love, love, love, jumpsuit, fun, flirti, fabu...\n",
      "4        [shirt, flatter, due, adjust, front, tie, perf...\n",
      "                               ...                        \n",
      "23481    [happi, snag, dress, great, price, easi, slip,...\n",
      "23482    [remind, matern, cloth, soft, stretchi, shini,...\n",
      "23483    [fit, well, top, see, never, would, work, im, ...\n",
      "23484    [bought, dress, wed, summer, cute, unfortun, f...\n",
      "23485    [dress, love, platinum, feminin, fit, perfect,...\n",
      "Name: review_text_tokens_stemmed, Length: 22641, dtype: object\n"
     ]
    }
   ],
   "source": [
    "# Stemming\n",
    "# Tahap ini akan mengembalikan kata kebentuk dasarnya\n",
    "# di sini akan menggunakan snowball stemmer\n",
    "\n",
    "# Menghitung waktu stemming\n",
    "start_time = time.time()\n",
    "\n",
    "stemmer = SnowballStemmer(language=\"english\")\n",
    "df[\"review_text_tokens_stemmed\"] = df[\"review_text_tokens_wsw\"].apply(\n",
    "    lambda words: [stemmer.stem(word) for word in words]\n",
    ")\n",
    "\n",
    "print(\"--- %s seconds ---\" % (time.time() - start_time))\n",
    "print(df[\"review_text_tokens_stemmed\"])"
   ]
  },
  {
   "cell_type": "code",
   "execution_count": 21,
   "id": "98d7b9f4",
   "metadata": {},
   "outputs": [],
   "source": [
    "# Menyimpan hasil prepocessing\n",
    "df.to_csv(\"text_preprocessing.csv\")"
   ]
  }
 ],
 "metadata": {
  "kernelspec": {
   "display_name": "nlp-belajar",
   "language": "python",
   "name": "nlp-belajar"
  },
  "language_info": {
   "codemirror_mode": {
    "name": "ipython",
    "version": 3
   },
   "file_extension": ".py",
   "mimetype": "text/x-python",
   "name": "python",
   "nbconvert_exporter": "python",
   "pygments_lexer": "ipython3",
   "version": "3.8.11"
  }
 },
 "nbformat": 4,
 "nbformat_minor": 5
}
